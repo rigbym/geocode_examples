{
 "cells": [
  {
   "cell_type": "markdown",
   "metadata": {},
   "source": [
    "# Recipe: Text to maps"
   ]
  },
  {
   "cell_type": "markdown",
   "metadata": {},
   "source": [
    "## Preparation\n",
    "### Actions\n",
    "* Review NER Output\n",
    "* Preprocess data\n",
    " * Remove extra whitespace\n",
    " * Remove Post office box reference"
   ]
  },
  {
   "cell_type": "code",
   "execution_count": 56,
   "metadata": {},
   "outputs": [
    {
     "name": "stdout",
     "output_type": "stream",
     "text": [
      "46 King Street, Sandy Bay\n",
      "2/50 St Marks Road, Randwick\n",
      "Dalby Street, Jandowae\n",
      "C/O H E C, Gowrie Park\n",
      "26, Littlehampton\n",
      "Darwin\n"
     ]
    }
   ],
   "source": [
    "import json\n",
    "import csv\n",
    "import urllib.request\n",
    "\n",
    "fp=open(\"ner_output.csv\", newline='')\n",
    "csv_reader = csv.reader(fp)\n",
    "next(csv_reader) # skip header row\n",
    "addresses=[]\n",
    "for [address] in csv_reader:\n",
    "    address=address.replace(\"  \",\" \")\n",
    "    address=address.replace(\"Post Office Box \",\"\")\n",
    "    print(address)\n",
    "    addresses.append(address)"
   ]
  },
  {
   "cell_type": "markdown",
   "metadata": {},
   "source": [
    "## Georeferencing\n",
    "### Actions\n",
    "* Perform georeferencing using Pelias geocoder"
   ]
  },
  {
   "cell_type": "code",
   "execution_count": 57,
   "metadata": {},
   "outputs": [
    {
     "data": {
      "text/html": [
       "<table>\n",
       "<tbody>\n",
       "<tr><td>p_confidence</td><td>p_match_type</td><td>p_accuracy</td><td>p_lon     </td><td>p_lat     </td></tr>\n",
       "<tr><td>1           </td><td>exact       </td><td>point     </td><td>147.327321</td><td>-42.894435</td></tr>\n",
       "<tr><td>0.6         </td><td>fallback    </td><td>centroid  </td><td>151.242096</td><td>-33.911304</td></tr>\n",
       "<tr><td>0.6         </td><td>fallback    </td><td>centroid  </td><td>151.111022</td><td>-26.781431</td></tr>\n",
       "<tr><td>0.74        </td><td>            </td><td>point     </td><td>151.896663</td><td>-27.486232</td></tr>\n",
       "<tr><td>0.672       </td><td>            </td><td>point     </td><td>138.862205</td><td>-35.054718</td></tr>\n",
       "<tr><td>1           </td><td>exact       </td><td>centroid  </td><td>130.842984</td><td>-12.460477</td></tr>\n",
       "</tbody>\n",
       "</table>"
      ],
      "text/plain": [
       "<IPython.core.display.HTML object>"
      ]
     },
     "metadata": {},
     "output_type": "display_data"
    }
   ],
   "source": [
    "output=[[\"p_confidence\",\"p_match_type\",\"p_accuracy\",\"p_lon\",\"p_lat\"]]\n",
    "for address in addresses:\n",
    "    address=address.replace(\" \",\"+\")\n",
    "    url='https://geocoder.aurin.org.au/v1/search?text='+address+'&boundary.country=AUS'\n",
    "    req = urllib.request.Request(url)\n",
    "    with urllib.request.urlopen(req) as response:\n",
    "        data = json.loads(response.read().decode(\"utf-8\"))\n",
    "        #print(data)\n",
    "        row=[]\n",
    "        row.append(data[\"features\"][0][\"properties\"][\"confidence\"])\n",
    "        if(\"match_type\" in data[\"features\"][0][\"properties\"]):\n",
    "            row.append(data[\"features\"][0][\"properties\"][\"match_type\"])\n",
    "        else:\n",
    "            row.append(\"\")\n",
    "        row.append(data[\"features\"][0][\"properties\"][\"accuracy\"])\n",
    "        row.append(data[\"features\"][0][\"geometry\"][\"coordinates\"][0])\n",
    "        row.append(data[\"features\"][0][\"geometry\"][\"coordinates\"][1])\n",
    "        output.append(row)\n",
    "        \n",
    "from IPython.display import HTML, display\n",
    "import tabulate\n",
    "\n",
    "display(HTML(tabulate.tabulate(output, tablefmt='html')))"
   ]
  },
  {
   "cell_type": "markdown",
   "metadata": {},
   "source": [
    "### Actions\n",
    "* Perform georeferencing using the data61 GNAF geocoder"
   ]
  },
  {
   "cell_type": "code",
   "execution_count": 58,
   "metadata": {},
   "outputs": [
    {
     "data": {
      "text/html": [
       "<table>\n",
       "<tbody>\n",
       "<tr><td>p_confidence</td><td>p_match_type</td><td>p_accuracy</td><td>p_lon     </td><td>p_lat     </td><td>d_score            </td><td>d_lon       </td><td>d_lat       </td></tr>\n",
       "<tr><td>1           </td><td>exact       </td><td>point     </td><td>147.327321</td><td>-42.894435</td><td>0.6515591144561768 </td><td>147.32732057</td><td>-42.89443454</td></tr>\n",
       "<tr><td>0.6         </td><td>fallback    </td><td>centroid  </td><td>151.242096</td><td>-33.911304</td><td>0.5142303705215454 </td><td>151.24675295</td><td>-33.91375726</td></tr>\n",
       "<tr><td>0.6         </td><td>fallback    </td><td>centroid  </td><td>151.111022</td><td>-26.781431</td><td>0.5402733087539673 </td><td>151.10802394</td><td>-26.77965686</td></tr>\n",
       "<tr><td>0.74        </td><td>            </td><td>point     </td><td>151.896663</td><td>-27.486232</td><td>0.28649017214775085</td><td>146.21810781</td><td>-41.47355859</td></tr>\n",
       "<tr><td>0.672       </td><td>            </td><td>point     </td><td>138.862205</td><td>-35.054718</td><td>0.3255309462547302 </td><td>138.84656084</td><td>-35.05692593</td></tr>\n",
       "<tr><td>1           </td><td>exact       </td><td>centroid  </td><td>130.842984</td><td>-12.460477</td><td>0.3615313172340393 </td><td>151.45618062</td><td>-33.37669323</td></tr>\n",
       "</tbody>\n",
       "</table>"
      ],
      "text/plain": [
       "<IPython.core.display.HTML object>"
      ]
     },
     "metadata": {},
     "output_type": "display_data"
    }
   ],
   "source": [
    "url='https://geocoder.aurin.org.au/gnaf-search/search'\n",
    "output[0].extend([\"d_score\",\"d_lon\",\"d_lat\"])\n",
    "ii=1\n",
    "for address in addresses:\n",
    "    row=output[ii]\n",
    "    post_data='{\"addr\": \"'+address+'\",\"numHits\": 3,\"fuzzy\": {\"maxEdits\": 2,\"minLength\": 5,\"prefixLength\": 2}}'\n",
    "    post_data=post_data.encode('utf-8')\n",
    "    req = urllib.request.Request(url,data=post_data,headers={'Content-Type':'application/json', 'Accept':'application/json'})\n",
    "    with urllib.request.urlopen(req) as response:\n",
    "        data = json.loads(response.read().decode(\"utf-8\"))\n",
    "        hit=json.loads(data[\"hits\"][0][\"json\"])\n",
    "        row.append(data[\"hits\"][0][\"score\"])\n",
    "        row.append(hit[\"location\"][\"lon\"])\n",
    "        row.append(hit[\"location\"][\"lat\"])\n",
    "    ii+=1\n",
    "display(HTML(tabulate.tabulate(output, tablefmt='html')))"
   ]
  },
  {
   "cell_type": "markdown",
   "metadata": {},
   "source": [
    "# Reviewing\n",
    "## Actions\n",
    "* Review georeferencing result: look for discordant results from the two geocoders\n",
    " * Calculate distance of result from first geocoder to result from second geocoder\n",
    " * Display on a map"
   ]
  },
  {
   "cell_type": "code",
   "execution_count": 59,
   "metadata": {},
   "outputs": [
    {
     "data": {
      "text/html": [
       "<table>\n",
       "<tbody>\n",
       "<tr><td>p_confidence</td><td>p_match_type</td><td>p_accuracy</td><td>p_lon     </td><td>p_lat     </td><td>d_score            </td><td>d_lon       </td><td>d_lat       </td><td>distance</td></tr>\n",
       "<tr><td>1           </td><td>exact       </td><td>point     </td><td>147.327321</td><td>-42.894435</td><td>0.6515591144561768 </td><td>147.32732057</td><td>-42.89443454</td><td>0.0     </td></tr>\n",
       "<tr><td>0.6         </td><td>fallback    </td><td>centroid  </td><td>151.242096</td><td>-33.911304</td><td>0.5142303705215454 </td><td>151.24675295</td><td>-33.91375726</td><td>0.51    </td></tr>\n",
       "<tr><td>0.6         </td><td>fallback    </td><td>centroid  </td><td>151.111022</td><td>-26.781431</td><td>0.5402733087539673 </td><td>151.10802394</td><td>-26.77965686</td><td>0.36    </td></tr>\n",
       "<tr><td>0.74        </td><td>            </td><td>point     </td><td>151.896663</td><td>-27.486232</td><td>0.28649017214775085</td><td>146.21810781</td><td>-41.47355859</td><td>1638.06 </td></tr>\n",
       "<tr><td>0.672       </td><td>            </td><td>point     </td><td>138.862205</td><td>-35.054718</td><td>0.3255309462547302 </td><td>138.84656084</td><td>-35.05692593</td><td>1.44    </td></tr>\n",
       "<tr><td>1           </td><td>exact       </td><td>centroid  </td><td>130.842984</td><td>-12.460477</td><td>0.3615313172340393 </td><td>151.45618062</td><td>-33.37669323</td><td>3125.68 </td></tr>\n",
       "</tbody>\n",
       "</table>"
      ],
      "text/plain": [
       "<IPython.core.display.HTML object>"
      ]
     },
     "metadata": {},
     "output_type": "display_data"
    }
   ],
   "source": [
    "# calculate distance from one to the other\n",
    "import math\n",
    "def haversine(lon1, lat1, lon2, lat2):\n",
    "    \"\"\"\n",
    "    Calculate the great circle distance between two points \n",
    "    on the earth (specified in decimal degrees).\n",
    "    Source: http://gis.stackexchange.com/a/56589/15183\n",
    "    \"\"\"\n",
    "    # convert decimal degrees to radians \n",
    "    lon1, lat1, lon2, lat2 = map(math.radians, [lon1, lat1, lon2, lat2])\n",
    "    # haversine formula \n",
    "    dlon = lon2 - lon1\n",
    "    dlat = lat2 - lat1\n",
    "    a = math.sin(dlat/2)**2 + math.cos(lat1) * math.cos(lat2) * math.sin(dlon/2)**2\n",
    "    c = 2 * math.asin(math.sqrt(a))\n",
    "    km = 6367 * c\n",
    "    return km\n",
    "ii=-1\n",
    "for row in output:\n",
    "    ii+=1\n",
    "    if ii == 0:\n",
    "        row.append(\"distance\")\n",
    "        continue\n",
    "    row.append(round(haversine(float(row[3]),float(row[4]),float(row[6]),float(row[7])),2))\n",
    "display(HTML(tabulate.tabulate(output, tablefmt='html')))"
   ]
  },
  {
   "cell_type": "code",
   "execution_count": 60,
   "metadata": {},
   "outputs": [
    {
     "data": {
      "application/vnd.jupyter.widget-view+json": {
       "model_id": "ebcb92359fe4475388a5ecc9bcd29072",
       "version_major": 2,
       "version_minor": 0
      },
      "text/plain": [
       "Map(basemap={'url': 'https://{s}.tile.openstreetmap.org/{z}/{x}/{y}.png', 'max_zoom': 19, 'attribution': 'Map …"
      ]
     },
     "metadata": {},
     "output_type": "display_data"
    }
   ],
   "source": [
    "from ipyleaflet import Map, Marker, CircleMarker, Polygon\n",
    "center = (-28, 140)\n",
    "m = Map(center=center, zoom=4)\n",
    "#marker = Marker(location=center, draggable=False)\n",
    "#m.add_layer(marker);\n",
    "\n",
    "for result in output:\n",
    "    m.add_layer(CircleMarker(location=(result[4],result[3]),radius=2,color=\"red\",fill_color=\"red\"))\n",
    "    m.add_layer(CircleMarker(location=(result[7],result[6]),radius=2,color=\"blue\",fill_color=\"blue\"))\n",
    "    m.add_layer(Polygon(locations=[(result[4],result[3]),(result[7],result[6])],color=\"green\",fill_color=\"green\"))\n",
    "m"
   ]
  },
  {
   "cell_type": "markdown",
   "metadata": {},
   "source": [
    "# Refinement\n",
    "## Actions\n",
    "* Drop fine-grained information at the beginning of address, such as unit number, etc. and rerun the procedure"
   ]
  }
 ],
 "metadata": {
  "kernelspec": {
   "display_name": "Python 3",
   "language": "python",
   "name": "python3"
  },
  "language_info": {
   "codemirror_mode": {
    "name": "ipython",
    "version": 3
   },
   "file_extension": ".py",
   "mimetype": "text/x-python",
   "name": "python",
   "nbconvert_exporter": "python",
   "pygments_lexer": "ipython3",
   "version": "3.6.6"
  }
 },
 "nbformat": 4,
 "nbformat_minor": 2
}
